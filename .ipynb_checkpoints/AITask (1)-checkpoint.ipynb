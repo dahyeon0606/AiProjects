{
 "cells": [
  {
   "cell_type": "code",
   "execution_count": 14,
   "metadata": {
    "id": "TgS7rt0OeWi6"
   },
   "outputs": [],
   "source": [
    "\"\"\"탐색을 통한 문제 해결을 위해 필요한 기반 구조들.\n",
    "GitHub의 aima-python 코드를 기반으로 일부 내용을 수정하였음.\"\"\"\n",
    "import math\n",
    "import heapq\n",
    "import sys\n",
    "from collections import defaultdict, deque\n",
    "\n",
    "\n",
    "class Problem:\n",
    "    \"\"\"해결할 문제에 대한 추상 클래스\n",
    "    다음 절차에 따라 이 클래스를 활용하여 문제해결하면 됨.\n",
    "    1. 이 클래스의 서브클래스 생성 (이 서브클래스를 편의상 YourProblem이라고 하자)\n",
    "    2. 다음 메쏘드들 구현\n",
    "       - actions\n",
    "       - result\n",
    "       - 필요에 따라 h, __init__, is_goal, action_cost도\n",
    "    3. YourProblem의 인스턴스를 생성\n",
    "    4. 다양한 탐색 함수들을 사용해서 YourProblem을 해결\"\"\"\n",
    "\n",
    "    def __init__(self, initial=None, goal=None, **kwds):\n",
    "        \"\"\"초기 상태(initial), 목표 상태(goal) 지정.\n",
    "        필요에 따라 다른 파라미터들 추가\"\"\"\n",
    "        self.__dict__.update(initial=initial, goal=goal, **kwds)  # __dict__: 객체의 속성 정보를 담고 있는 딕셔너리\n",
    "\n",
    "    def actions(self, state):\n",
    "        \"\"\"행동: 주어진 상태(state)에서 취할 수 있는 행동들을 리턴함.\n",
    "        대개 리스트 형태로 리턴하면 될 것임.\n",
    "        한꺼번에 리턴하기에 너무 많은 행동들이 있을 경우, yield 사용을 검토할 것.\"\"\"\n",
    "        raise NotImplementedError\n",
    "\n",
    "    def result(self, state, action):\n",
    "        \"\"\"이행모델: 주어진 상태(state)에서 주어진 행동(action)을 취했을 때의 결과 상태를 리턴함.\n",
    "        action은 self.actions(state) 중 하나여야 함.\"\"\"\n",
    "        raise NotImplementedError\n",
    "\n",
    "    def is_goal(self, state):\n",
    "        \"\"\"목표검사: 상태가 목표 상태이면 True를 리턴함.\n",
    "        상태가 self.goal과 일치하는지 혹은 self.goal이 리스트인 경우 그 중의 하나인지 체크함.\n",
    "        더 복잡한 목표검사가 필요할 경우 이 메쏘드를 오버라이드하면 됨.\"\"\"\n",
    "        if isinstance(self.goal, list):\n",
    "            return is_in(state, self.goal)\n",
    "        else:\n",
    "            return state == self.goal\n",
    "\n",
    "    def action_cost(self, state1, action, state2):\n",
    "        \"\"\"행동 비용: state1에서 action을 통해 state2에 이르는 비용을 리턴함.\n",
    "        경로가 중요치 않은 문제의 경우에는 state2만을 고려한 함수가 될 것임.\n",
    "        현재 구현된 기본 버전은 모든 상태에서 행동 비용을 1로 산정함.\"\"\"\n",
    "        return 1\n",
    "\n",
    "    def h(self, node):\n",
    "        \"\"\"휴리스틱 함수:\n",
    "        문제에 따라 휴리스틱 함수를 적절히 변경해줘야 함.\"\"\"\n",
    "        return 0\n",
    "\n",
    "    def __str__(self):\n",
    "        return f'{type(self).__name__}({self.initial!r}, {self.goal!r})'\n",
    "\n",
    "\n",
    "def is_in(elt, seq):\n",
    "    \"\"\"elt가 seq의 원소인지 체크.\n",
    "    (elt in seq)와 유사하나 ==(값의 비교)이 아닌 is(객체의 일치 여부)로 비교함.\"\"\"\n",
    "    return any(x is elt for x in seq)\n",
    "\n",
    "\n",
    "class Node:\n",
    "    \"\"\"탐색 트리의 노드. 다음 요소들로 구성됨.\n",
    "    - 이 노드에 대응되는 상태(한 상태에 여러 노드가 대응될 수도 있음)\n",
    "    - 이 노드를 생성한 부모에 대한 포인터\n",
    "    - 이 상태에 이르게 한 행동\n",
    "    - 경로 비용(g)\n",
    "    이 클래스의 서브클래스를 만들 필요는 없을 것임.\"\"\"\n",
    "\n",
    "    def __init__(self, state, parent=None, action=None, path_cost=0):\n",
    "        \"\"\"parent에서 action을 취해 만들어지는 탐색 트리의 노드 생성\"\"\"\n",
    "        self.__dict__.update(state=state, parent=parent, action=action, path_cost=path_cost)\n",
    "\n",
    "    def __repr__(self):\n",
    "        return f\"<{self.state}>\"\n",
    "\n",
    "    def __len__(self): # 탐색 트리에서 이 노드의 깊이\n",
    "        return 0 if self.parent is None else (1 + len(self.parent))\n",
    "\n",
    "    def __lt__(self, other):\n",
    "        return self.path_cost < other.path_cost\n",
    "\n",
    "\n",
    "\n",
    "def expand(problem, current): \n",
    "    \"\"\"노드 확장: 이 노드에서 한 번의 움직임으로 도달 가능한 자식 노드들을 생성하여 yield함\"\"\"\n",
    "    current_route = current\n",
    "\n",
    "    action = problem.action()\n",
    "    next_route = problem.result(current_route, action)\n",
    "\n",
    "    return next_route"
   ]
  },
  {
   "cell_type": "code",
   "execution_count": 15,
   "metadata": {
    "id": "8G2Fx3ePe2an"
   },
   "outputs": [],
   "source": [
    "# 탐색을 통한 문제 해결을 위해 필요한 기반 구조들은 search_common.py에 코드를 옮겨서 저장해뒀음.\n",
    "import operator\n",
    "import random\n",
    "import numpy as np\n",
    "import matplotlib.pyplot as plt  # 시각화 모듈\n",
    "from PIL import Image\n",
    "import bisect"
   ]
  },
  {
   "cell_type": "markdown",
   "metadata": {
    "id": "GDhMSTf8e9D5"
   },
   "source": [
    "# Simulated Annealing, TspProblem\n",
    "schedule 함수로는 $schedule(t) = k \\times e^{-\\lambda t}$ 사용"
   ]
  },
  {
   "cell_type": "code",
   "execution_count": 16,
   "metadata": {
    "id": "VUof3j2se45B"
   },
   "outputs": [],
   "source": [
    "def exp_schedule(k=20, lam=0.005, limit=500):\n",
    "    \"\"\"simulated annealing용 schedule 함수\"\"\"\n",
    "    return lambda t: (k * np.exp(-lam * t) if t < limit else 0)\n",
    "\n",
    "\n",
    "def simulated_annealing(problem, schedule=exp_schedule()):\n",
    "    \"\"\"simulated annealing\"\"\"\n",
    "    current = problem.initial # (1,1) 시작위치로 \n",
    "    for t in range(sys.maxsize):\n",
    "        T = schedule(t)\n",
    "        if T == 0:\n",
    "            return current ######\n",
    "        neighbor = expand(problem, current)    #?????이때 expand 결과가 여러번 나왔던 값이 나오면 어떡하지?\n",
    "        # if len(neighbors) == 0:\n",
    "        #     return current.state\n",
    "        # next_choice = random.choice(neighbors) #expand로 대체\n",
    "        delta_e = problem.value(current) - problem.value(neighbor)   #목적함수? -> 교수님께 여쭤보기\n",
    "        if delta_e > 0 or probability(np.exp(delta_e / T)):\n",
    "            current = neighbor\n",
    "\n",
    "\n",
    "def probability(p):\n",
    "    \"\"\"p의 확률로 True를 리턴함.\"\"\"\n",
    "    return p > random.uniform(0.0, 1.0)"
   ]
  },
  {
   "cell_type": "code",
   "execution_count": 21,
   "metadata": {
    "id": "rwcQDMb1e_6x"
   },
   "outputs": [],
   "source": [
    "# 미리 정의된 행동들\n",
    "# directions4 = [(-1, 0), (0, 1), (1, 0), (0, -1)] # (y, x)  상우하좌 4 방향 (4방향으로만 행동을 허용하도록 문제를 정의할 경우 사용)\n",
    "# directions8 = directions4 + [(-1, 1), (1, 1), (1, -1), (-1, -1)] # 대각선 4 방향 추가 (대각선 방향 행동도 허용하여 문제 정의할 경우 사용)\n",
    "\n",
    "\n",
    "class TspProblem(Problem):\n",
    "\n",
    "    def __init__(self, distance_matrix, node_list, first_node):\n",
    "      #  고정된 노드를 인덱스로 바꾸고 그 고정된 인덱스만 없는 인덱스리스트를 만들어서 스왑하기\n",
    "        \n",
    "        self.first_node_idx = node_list.index(first_node)\n",
    "        self.swap_list = []\n",
    "        self.swap_list.extend(list(range(len(node_list))))\n",
    "        self.swap_list.pop(self.first_node_idx)\n",
    "        \n",
    "        print(self.swap_list) # [1,2,3]\n",
    "        \n",
    "        initial = [self.first_node_idx]\n",
    "        initial.extend(self.swap_list)\n",
    "        super().__init__(initial)\n",
    "\n",
    "        self.distance_matrix = distance_matrix\n",
    "        self.n = 10  # 행 인덱스(x)의 최대값\n",
    "        assert self.n > 0\n",
    "        self.m = 10  # 열 인덱스(y)의 최대값; 결국 이 그리드의 크기는 n행 m열\n",
    "        assert self.m > 0\n",
    "\n",
    "    def actions(self):\n",
    "        \"\"\"주어진 상태에서 허용되는 행동\"\"\"\n",
    "        swap_idx = []\n",
    "        idx1, idx2 = random.sample(self.swap_list, 2)\n",
    "        swap_idx.append(idx1)\n",
    "        swap_idx.append(idx2)\n",
    "\n",
    "        return swap_idx\n",
    "\n",
    "    def result(self, state, action):\n",
    "        \"\"\"행동에 명시된 방향으로 이동\"\"\"\n",
    "        new_route = state[:]\n",
    "        new_route[action[0]], new_route[action[1]] = new_route[action[1]], new_route[action[0]]\n",
    "\n",
    "        return new_route\n",
    "\n",
    "\n",
    "    def value(self, route):    #목적함수? 비용?\n",
    "        \"\"\"경로의 총 거리를 계산하는 함수\"\"\"\n",
    "        total_cost = 0\n",
    "        for i in range(len(route) - 1):\n",
    "            total_cost += self.distance_matrix[route[i]][route[i + 1]]\n",
    "        total_cost += self.distance_matrix[route[-1]][route[0]]  # 마지막 도시에서 첫 번째 도시로\n",
    "        return total_cost\n",
    "\n",
    "\n",
    "# def vector_add(a, b):\n",
    "#     \"\"\"두 벡터의 각 성분별로 덧셈 연산\"\"\"\n",
    "#     return tuple(map(operator.add, a, b))"
   ]
  },
  {
   "cell_type": "markdown",
   "metadata": {},
   "source": [
    "# 사용자 입력"
   ]
  },
  {
   "cell_type": "code",
   "execution_count": 18,
   "metadata": {
    "id": "ROABtib7J0bb"
   },
   "outputs": [],
   "source": [
    "from collections import OrderedDict\n",
    "\n",
    "def input_node_names_and_coordinates():    #딕셔너리 형식으로 노드 이름과 좌표를 받는다.\n",
    "    \"\"\"사용자로부터 9개의 노드 이름과 각 노드의 좌표를 입력받아 반환합니다.\"\"\"\n",
    "    nodes = OrderedDict()\n",
    "    print(\"3개의 노드의 이름과 각 노드의 좌표를 입력해주세요. (x와 y에 들어갈 수 있는 값은 0~9입니다.)\")\n",
    "    for i in range(4):\n",
    "        while True:\n",
    "            try:\n",
    "                # 노드 이름 입력 받기\n",
    "                node_name = input(f\"노드 {i+1}의 이름을 입력해주세요 (예: A): \").strip()\n",
    "\n",
    "                # 이미 존재하는 노드 이름인지 확인\n",
    "                if node_name in nodes:\n",
    "                    print(\"이미 입력된 노드 이름입니다. 다른 이름을 입력해주세요.\")\n",
    "                    continue\n",
    "\n",
    "                # 노드 좌표 입력 받기\n",
    "                coord = input(f\"노드 {node_name}의 좌표를 (x, y) 형태로 입력해주세요 (예: 3, 5): \")\n",
    "                x, y = map(int, coord.strip().split(','))  # 쉼표를 기준으로 분리하고 정수 변환\n",
    "                if 0 <= x <= 9 and 0 <= y <= 9:  # 좌표가 (0, 9) 범위 내에 있는지 확인\n",
    "                    nodes[node_name] = (x, y)\n",
    "                    break\n",
    "                else:\n",
    "                    print(\"좌표는 (0, 9) 범위 내에 있어야 합니다. 다시 입력해주세요.\")\n",
    "            except ValueError:\n",
    "                print(\"유효한 좌표를 입력해주세요 (예: 3, 5).\")\n",
    "\n",
    "    first_node = input(\"시작할 노드를 정해주세요 : \")   # 나중에 다시 손보기\n",
    "    return nodes, first_node"
   ]
  },
  {
   "cell_type": "code",
   "execution_count": 19,
   "metadata": {
    "id": "0pY2IWgyLZG_"
   },
   "outputs": [],
   "source": [
    "def calculate_distance_matrix(nodes):\n",
    "    \"\"\"입력받은 노드의 좌표를 사용하여 distance_matrix를 계산합니다.\"\"\"\n",
    "    num_nodes = len(nodes)\n",
    "    distance_matrix = np.zeros((num_nodes, num_nodes))\n",
    "    node_list = list(nodes.keys())  # 노드 이름 목록 (A부터 I까지)\n",
    "\n",
    "    # 각 노드 간의 유클리드 거리 계산\n",
    "    for i in range(num_nodes):\n",
    "        for j in range(num_nodes):\n",
    "            if i != j:\n",
    "                coord1 = nodes[node_list[i]]\n",
    "                coord2 = nodes[node_list[j]]\n",
    "                distance = np.linalg.norm(np.array(coord1) - np.array(coord2))\n",
    "                distance_matrix[i][j] = distance\n",
    "\n",
    "    return distance_matrix, node_list"
   ]
  },
  {
   "cell_type": "code",
   "execution_count": 7,
   "metadata": {
    "colab": {
     "base_uri": "https://localhost:8080/"
    },
    "id": "F3_d9UetLtW6",
    "outputId": "3b35cf07-29cb-4f63-abe6-5db3da034a80"
   },
   "outputs": [
    {
     "name": "stdout",
     "output_type": "stream",
     "text": [
      "3개의 노드의 이름과 각 노드의 좌표를 입력해주세요. (x와 y에 들어갈 수 있는 값은 0~9입니다.)\n",
      "노드 1의 이름을 입력해주세요 (예: A): a\n",
      "노드 a의 좌표를 (x, y) 형태로 입력해주세요 (예: 3, 5): 1,1\n",
      "노드 2의 이름을 입력해주세요 (예: A): b\n",
      "노드 b의 좌표를 (x, y) 형태로 입력해주세요 (예: 3, 5): 3,3\n",
      "노드 3의 이름을 입력해주세요 (예: A): c\n",
      "노드 c의 좌표를 (x, y) 형태로 입력해주세요 (예: 3, 5): 6,6\n",
      "노드 4의 이름을 입력해주세요 (예: A): a\n",
      "이미 입력된 노드 이름입니다. 다른 이름을 입력해주세요.\n",
      "노드 4의 이름을 입력해주세요 (예: A): d\n",
      "노드 d의 좌표를 (x, y) 형태로 입력해주세요 (예: 3, 5): 5,5\n",
      "시작할 노드를 정해주세요 : a\n"
     ]
    }
   ],
   "source": [
    "# 사용자의 입력을 통해 노드의 좌표를 입력받습니다.\n",
    "nodes, first_node = input_node_names_and_coordinates()"
   ]
  },
  {
   "cell_type": "code",
   "execution_count": 8,
   "metadata": {
    "id": "jzUsNumSMrbd"
   },
   "outputs": [],
   "source": [
    "# 입력받은 노드의 좌표를 사용하여 distance_matrix를 계산합니다.\n",
    "distance_matrix, node_list = calculate_distance_matrix(nodes)"
   ]
  },
  {
   "cell_type": "code",
   "execution_count": 9,
   "metadata": {
    "colab": {
     "base_uri": "https://localhost:8080/"
    },
    "id": "4RsZP_rNMv0_",
    "outputId": "95183b2b-01f6-44f7-ae0d-d1aff5cc1b99"
   },
   "outputs": [
    {
     "name": "stdout",
     "output_type": "stream",
     "text": [
      "\n",
      "지도 형식의 distance_matrix:\n",
      "    a  b  c  d  \n",
      "a 0.00 2.83 7.07 5.66 \n",
      "b 2.83 0.00 4.24 2.83 \n",
      "c 7.07 4.24 0.00 1.41 \n",
      "d 5.66 2.83 1.41 0.00 \n"
     ]
    }
   ],
   "source": [
    "def print_distance_matrix(distance_matrix, node_list):\n",
    "    \"\"\"distance_matrix를 보기 좋은 형식으로 출력합니다.\"\"\"\n",
    "    print(\"\\n지도 형식의 distance_matrix:\")\n",
    "    print(\" \", end=\"   \")\n",
    "    for node in node_list:\n",
    "        print(f\"{node}  \", end=\"\")\n",
    "    print()\n",
    "    for i, row in enumerate(distance_matrix):\n",
    "        print(f\"{node_list[i]} \", end=\"\")\n",
    "        for dist in row:\n",
    "            print(f\"{dist:.2f} \", end=\"\")\n",
    "        print()\n",
    "\n",
    "\n",
    "\n",
    "\n",
    "# distance_matrix를 보기 좋은 형식으로 출력합니다.\n",
    "print_distance_matrix(distance_matrix, node_list)"
   ]
  },
  {
   "cell_type": "markdown",
   "metadata": {},
   "source": [
    "# 실행"
   ]
  },
  {
   "cell_type": "code",
   "execution_count": 22,
   "metadata": {
    "colab": {
     "base_uri": "https://localhost:8080/",
     "height": 280
    },
    "id": "7KgfWI1PvKF9",
    "outputId": "47d62037-2f7d-4dbc-840d-4b21007da0d1"
   },
   "outputs": [
    {
     "name": "stdout",
     "output_type": "stream",
     "text": [
      "[1, 2, 3]\n"
     ]
    }
   ],
   "source": [
    "problem = TspProblem(distance_matrix, node_list, first_node)"
   ]
  },
  {
   "cell_type": "code",
   "execution_count": 12,
   "metadata": {
    "id": "m7WPZG3qf56F"
   },
   "outputs": [
    {
     "ename": "AttributeError",
     "evalue": "'TspProblem' object has no attribute 'action'",
     "output_type": "error",
     "traceback": [
      "\u001b[0;31m---------------------------------------------------------------------------\u001b[0m",
      "\u001b[0;31mAttributeError\u001b[0m                            Traceback (most recent call last)",
      "Cell \u001b[0;32mIn[12], line 1\u001b[0m\n\u001b[0;32m----> 1\u001b[0m final \u001b[38;5;241m=\u001b[39m simulated_annealing(problem)\n\u001b[1;32m      2\u001b[0m \u001b[38;5;28mprint\u001b[39m(final, problem\u001b[38;5;241m.\u001b[39mvalue(final), sep\u001b[38;5;241m=\u001b[39m\u001b[38;5;124m'\u001b[39m\u001b[38;5;130;01m\\t\u001b[39;00m\u001b[38;5;124m'\u001b[39m)\n",
      "Cell \u001b[0;32mIn[3], line 13\u001b[0m, in \u001b[0;36msimulated_annealing\u001b[0;34m(problem, schedule)\u001b[0m\n\u001b[1;32m     11\u001b[0m \u001b[38;5;28;01mif\u001b[39;00m T \u001b[38;5;241m==\u001b[39m \u001b[38;5;241m0\u001b[39m:\n\u001b[1;32m     12\u001b[0m     \u001b[38;5;28;01mreturn\u001b[39;00m current\u001b[38;5;241m.\u001b[39mstate\n\u001b[0;32m---> 13\u001b[0m neighbor \u001b[38;5;241m=\u001b[39m expand(problem, current)    \u001b[38;5;66;03m#?????이때 expand 결과가 여러번 나왔던 값이 나오면 어떡하지?\u001b[39;00m\n\u001b[1;32m     14\u001b[0m \u001b[38;5;66;03m# if len(neighbors) == 0:\u001b[39;00m\n\u001b[1;32m     15\u001b[0m \u001b[38;5;66;03m#     return current.state\u001b[39;00m\n\u001b[1;32m     16\u001b[0m \u001b[38;5;66;03m# next_choice = random.choice(neighbors) #expand로 대체\u001b[39;00m\n\u001b[1;32m     17\u001b[0m delta_e \u001b[38;5;241m=\u001b[39m problem\u001b[38;5;241m.\u001b[39mvalue(current) \u001b[38;5;241m-\u001b[39m problem\u001b[38;5;241m.\u001b[39mvalue(neighbor)   \u001b[38;5;66;03m#목적함수? -> 교수님께 여쭤보기\u001b[39;00m\n",
      "Cell \u001b[0;32mIn[1], line 93\u001b[0m, in \u001b[0;36mexpand\u001b[0;34m(problem, current)\u001b[0m\n\u001b[1;32m     90\u001b[0m \u001b[38;5;250m\u001b[39m\u001b[38;5;124;03m\"\"\"노드 확장: 이 노드에서 한 번의 움직임으로 도달 가능한 자식 노드들을 생성하여 yield함\"\"\"\u001b[39;00m\n\u001b[1;32m     91\u001b[0m current_route \u001b[38;5;241m=\u001b[39m current\n\u001b[0;32m---> 93\u001b[0m action \u001b[38;5;241m=\u001b[39m problem\u001b[38;5;241m.\u001b[39maction()\n\u001b[1;32m     94\u001b[0m next_route \u001b[38;5;241m=\u001b[39m problem\u001b[38;5;241m.\u001b[39mresult(current_route, action)\n\u001b[1;32m     96\u001b[0m \u001b[38;5;28;01mreturn\u001b[39;00m next_route\n",
      "\u001b[0;31mAttributeError\u001b[0m: 'TspProblem' object has no attribute 'action'"
     ]
    }
   ],
   "source": [
    "final = simulated_annealing(problem)\n",
    "print(final, problem.value(final), sep='\\t')"
   ]
  },
  {
   "cell_type": "code",
   "execution_count": null,
   "metadata": {
    "id": "BO9tTw1Sf9l0"
   },
   "outputs": [],
   "source": [
    "# 여러번 반복해서 해를 찾고 그 결과 중 최대값을 리턴하면 최적해일 가능성이 높아질 것임\n",
    "solutions = {problem.value(simulated_annealing(problem)) for i in range(100)}\n",
    "print(solutions, max(solutions), sep='\\t')"
   ]
  },
  {
   "cell_type": "code",
   "execution_count": null,
   "metadata": {
    "colab": {
     "base_uri": "https://localhost:8080/"
    },
    "id": "FBg_5dpfv5ZE",
    "outputId": "927b6e8e-0e2b-4348-93e5-57c7fc256f7a"
   },
   "outputs": [
    {
     "name": "stdout",
     "output_type": "stream",
     "text": [
      "[2.8284271247461903, 5.0, 5.385164807134504, 7.0710678118654755]\n",
      "20.284659743746168\n"
     ]
    }
   ],
   "source": [
    "import numpy as np\n",
    "\n",
    "\n",
    "test = []\n",
    "\n",
    "pointa = np.array([1, 1])\n",
    "pointb = np.array([3, 3])\n",
    "pointc = np.array([6, 7])\n",
    "pointd = np.array([8, 2])\n",
    "\n",
    "\n",
    "distancea = np.linalg.norm(pointa - pointb)\n",
    "test.append(distancea)\n",
    "\n",
    "\n",
    "distanceb = np.linalg.norm(pointb - pointc)\n",
    "test.append(distanceb)\n",
    "\n",
    "\n",
    "distancec = np.linalg.norm(pointc - pointd)\n",
    "test.append(distancec)\n",
    "\n",
    "\n",
    "\n",
    "distanced = np.linalg.norm(pointd - pointa)\n",
    "test.append(distanced)\n",
    "\n",
    "\n",
    "print(test)\n",
    "print(sum(test))"
   ]
  },
  {
   "cell_type": "code",
   "execution_count": null,
   "metadata": {
    "colab": {
     "base_uri": "https://localhost:8080/"
    },
    "id": "KwDEv3GHyf0h",
    "outputId": "9e507e17-033a-4ad9-c74e-3adde7207fb2"
   },
   "outputs": [
    {
     "name": "stdout",
     "output_type": "stream",
     "text": [
      "[7.0710678118654755, 5.0990195135927845, 5.0, 7.810249675906654]\n",
      "24.980337001364916\n"
     ]
    }
   ],
   "source": [
    "test = []\n",
    "\n",
    "pointa = np.array([1, 1])\n",
    "pointb = np.array([8, 2])\n",
    "pointc = np.array([3, 3])\n",
    "pointd = np.array([6, 7])\n",
    "\n",
    "\n",
    "distancea = np.linalg.norm(pointa - pointb)\n",
    "test.append(distancea)\n",
    "\n",
    "\n",
    "distanceb = np.linalg.norm(pointb - pointc)\n",
    "test.append(distanceb)\n",
    "\n",
    "\n",
    "distancec = np.linalg.norm(pointc - pointd)\n",
    "test.append(distancec)\n",
    "\n",
    "\n",
    "\n",
    "distanced = np.linalg.norm(pointd - pointa)\n",
    "test.append(distanced)\n",
    "\n",
    "\n",
    "print(test)\n",
    "print(sum(test))"
   ]
  },
  {
   "cell_type": "code",
   "execution_count": null,
   "metadata": {
    "id": "V8LTzG2MxC-h"
   },
   "outputs": [],
   "source": [
    "# 두 점의 좌표를 NumPy 배열로 정의\n",
    "point1 = np.array([6, 7])\n",
    "point2 = np.array([1, 1])\n",
    "\n",
    "# 두 점 사이의 거리 계산\n",
    "distance = np.linalg.norm(point2 - point1)\n",
    "\n",
    "print(distance)"
   ]
  },
  {
   "cell_type": "code",
   "execution_count": null,
   "metadata": {
    "colab": {
     "base_uri": "https://localhost:8080/"
    },
    "id": "5S3agZ3gwj_0",
    "outputId": "2e97e304-89ee-4ae8-ef2e-067c90db709e"
   },
   "outputs": [
    {
     "name": "stdout",
     "output_type": "stream",
     "text": [
      "15.637999999999998\n"
     ]
    }
   ],
   "source": [
    "print(2.828+5+7.810)"
   ]
  }
 ],
 "metadata": {
  "colab": {
   "provenance": []
  },
  "kernelspec": {
   "display_name": "Python 3 (ipykernel)",
   "language": "python",
   "name": "python3"
  },
  "language_info": {
   "codemirror_mode": {
    "name": "ipython",
    "version": 3
   },
   "file_extension": ".py",
   "mimetype": "text/x-python",
   "name": "python",
   "nbconvert_exporter": "python",
   "pygments_lexer": "ipython3",
   "version": "3.11.5"
  }
 },
 "nbformat": 4,
 "nbformat_minor": 1
}
