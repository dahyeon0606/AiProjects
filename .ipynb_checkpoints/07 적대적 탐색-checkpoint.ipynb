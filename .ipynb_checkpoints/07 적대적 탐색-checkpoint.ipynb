{
 "cells": [
  {
   "cell_type": "markdown",
   "metadata": {},
   "source": [
    "적대적 탐색 알고리즘의 동작 방식을 이해하고 이를 이용하여 게임 프로그램을 만드는 예를 살펴 봅시다. 여기 제공하는 코드는 GitHub aima-python의 코드를 기반으로 일부 수정한 것임."
   ]
  },
  {
   "cell_type": "code",
   "execution_count": 1,
   "metadata": {},
   "outputs": [],
   "source": [
    "from collections import defaultdict\n",
    "import random\n",
    "import math\n",
    "import numpy as np\n",
    "infinity = math.inf"
   ]
  },
  {
   "cell_type": "markdown",
   "metadata": {},
   "source": [
    "## 게임 문제 정의\n",
    "자신만의 게임 문제를 정의하려면 Game 클래스의 서브 클래스를 정의하면 됨."
   ]
  },
  {
   "cell_type": "code",
   "execution_count": 2,
   "metadata": {},
   "outputs": [],
   "source": [
    "class Game:\n",
    "    \"\"\"문제를 정의하기 위한 Problem 클래스에 대응되는 게임 정의를 위한 클래스.\n",
    "    경로 비용과 목표 검사 대신 각 상태에 대한 효용 함수와 종료 검사로 구성됨.\n",
    "    게임을 정의하려면 이 클래스의 서브 클래스를 만들어서\n",
    "    actions, result, is_terminal, utility를 구현하면 됨.\n",
    "    필요에 따라 게임의 초기 상태를 지정하려면,\n",
    "    클래스 생성자에서 초기 상태를 .initial 에 세팅하면 됨.\"\"\"\n",
    "\n",
    "    def actions(self, state):\n",
    "        \"\"\"주어진 상태에서 허용 가능한 수(move) 리스트\"\"\"\n",
    "        raise NotImplementedError\n",
    "\n",
    "    def result(self, state, move):\n",
    "        \"\"\"주어진 상태(state)에서 수(move)를 두었을 때의 결과 상태 리턴\"\"\"\n",
    "        raise NotImplementedError\n",
    "\n",
    "    def is_terminal(self, state):\n",
    "        \"\"\"state가 종료 상태이면 True 리턴\"\"\"\n",
    "        return not self.actions(state)\n",
    "    \n",
    "    def utility(self, state, player):\n",
    "        \"\"\"종료 상태 state에서 게임이 종료됐을 때 player의 효용 함수 값\"\"\"\n",
    "        raise NotImplementedError"
   ]
  },
  {
   "cell_type": "code",
   "execution_count": 3,
   "metadata": {},
   "outputs": [],
   "source": [
    "def play_game(game, strategies: dict, verbose=False):\n",
    "    \"\"\"번갈아 가면서 두는 게임 진행 함수.\n",
    "    strategies: {참가자 이름: 함수} 형태의 딕셔너리. \n",
    "    여기서 함수(game, state)는 상태 state에서 참가자의 수(move)를 찾는 함수\"\"\"\n",
    "    state = game.initial\n",
    "    while not game.is_terminal(state):\n",
    "        player = state.to_move\n",
    "        move = strategies[player](game, state)\n",
    "        state = game.result(state, move)\n",
    "        if verbose: \n",
    "            print('Player', player, 'move:', move)\n",
    "            print(state)\n",
    "    return state"
   ]
  },
  {
   "cell_type": "markdown",
   "metadata": {},
   "source": [
    "## 적대적 탐색 알고리즘 구현"
   ]
  },
  {
   "cell_type": "markdown",
   "metadata": {},
   "source": [
    "### 미니맥스 탐색"
   ]
  },
  {
   "cell_type": "code",
   "execution_count": 4,
   "metadata": {},
   "outputs": [],
   "source": [
    "def minimax_search(game, state):\n",
    "    \"\"\"미니맥스 탐색: 최고의 수를 결정하기 위한 게임 트리 탐색.\n",
    "    (미니맥스 값, 수) 쌍을 리턴함.\"\"\"\n",
    "\n",
    "    player = state.to_move\n",
    "\n",
    "    def max_value(state):\n",
    "        if game.is_terminal(state):\n",
    "            return game.utility(state, player), None\n",
    "        v, move = -infinity, None\n",
    "        for a in game.actions(state):\n",
    "            v2, _ = min_value(game.result(state, a))\n",
    "            if v2 > v:\n",
    "                v, move = v2, a\n",
    "        return v, move\n",
    "\n",
    "    def min_value(state):\n",
    "        if game.is_terminal(state):\n",
    "            return game.utility(state, player), None\n",
    "        v, move = +infinity, None\n",
    "        for a in game.actions(state):\n",
    "            v2, _ = max_value(game.result(state, a))\n",
    "            if v2 < v:\n",
    "                v, move = v2, a\n",
    "        return v, move\n",
    "\n",
    "    return max_value(state)"
   ]
  },
  {
   "cell_type": "markdown",
   "metadata": {},
   "source": [
    "### 알파-베타 탐색"
   ]
  },
  {
   "cell_type": "code",
   "execution_count": 5,
   "metadata": {},
   "outputs": [],
   "source": [
    "def alphabeta_search(game, state):\n",
    "    \"\"\"알파-베타 탐색: 알파-베타 가지치기를 사용하여 최고의 수를 결정하기 위한 게임 트리 탐색.\"\"\"\n",
    "\n",
    "    player = state.to_move\n",
    "\n",
    "    def max_value(state, alpha, beta):\n",
    "        if game.is_terminal(state):\n",
    "            return game.utility(state, player), None\n",
    "        v, move = -infinity, None\n",
    "        for a in game.actions(state):\n",
    "            v2, _ = min_value(game.result(state, a), alpha, beta)\n",
    "            if v2 > v:\n",
    "                v, move = v2, a\n",
    "                alpha = max(alpha, v)\n",
    "            if v >= beta:\n",
    "                return v, move\n",
    "        return v, move\n",
    "\n",
    "    def min_value(state, alpha, beta):\n",
    "        if game.is_terminal(state):\n",
    "            return game.utility(state, player), None\n",
    "        v, move = +infinity, None\n",
    "        for a in game.actions(state):\n",
    "            v2, _ = max_value(game.result(state, a), alpha, beta)\n",
    "            if v2 < v:\n",
    "                v, move = v2, a\n",
    "                beta = min(beta, v)\n",
    "            if v <= alpha:\n",
    "                return v, move\n",
    "        return v, move\n",
    "\n",
    "    return max_value(state, -infinity, +infinity)"
   ]
  },
  {
   "cell_type": "markdown",
   "metadata": {},
   "source": [
    "### 휴리스틱 알파-베타 탐색"
   ]
  },
  {
   "cell_type": "code",
   "execution_count": 6,
   "metadata": {},
   "outputs": [],
   "source": [
    "def cutoff_depth(d):\n",
    "    \"\"\"깊이 d까지만 탐색하도록 하는 중단 함수: depth > d이면 True 리턴.\"\"\"\n",
    "    return lambda game, state, depth: depth > d\n",
    "\n",
    "def h_alphabeta_search(game, state, cutoff=cutoff_depth(6), h=lambda s, p: 0):\n",
    "    \"\"\"휴리스틱 알파-베타 탐색\"\"\"\n",
    "\n",
    "    player = state.to_move\n",
    "\n",
    "    def max_value(state, alpha, beta, depth):\n",
    "        if game.is_terminal(state):\n",
    "            return game.utility(state, player), None\n",
    "        if cutoff(game, state, depth):\n",
    "            return h(state, player), None\n",
    "        v, move = -infinity, None\n",
    "        for a in game.actions(state):\n",
    "            v2, _ = min_value(game.result(state, a), alpha, beta, depth+1)\n",
    "            if v2 > v:\n",
    "                v, move = v2, a\n",
    "                alpha = max(alpha, v)\n",
    "            if v >= beta:\n",
    "                return v, move\n",
    "        return v, move\n",
    "\n",
    "    def min_value(state, alpha, beta, depth):\n",
    "        if game.is_terminal(state):\n",
    "            return game.utility(state, player), None\n",
    "        if cutoff(game, state, depth):\n",
    "            return h(state, player), None\n",
    "        v, move = +infinity, None\n",
    "        for a in game.actions(state):\n",
    "            v2, _ = max_value(game.result(state, a), alpha, beta, depth + 1)\n",
    "            if v2 < v:\n",
    "                v, move = v2, a\n",
    "                beta = min(beta, v)\n",
    "            if v <= alpha:\n",
    "                return v, move\n",
    "        return v, move\n",
    "\n",
    "    return max_value(state, -infinity, +infinity, 0)"
   ]
  },
  {
   "cell_type": "markdown",
   "metadata": {},
   "source": [
    "### 몬테가를로 트리 탐색\n",
    "몬테카를로 탐색 트리에서 사용하는 노드에는 자식 상태들을 저장함. 자식 상태들은 딕셔너리 구조로 저장됨. 키는 자식 노드 값은 그 자식 노드를 생성시킨 행동.\n",
    "`{자식노드1: 행동1, 자식노드2: 행동2, ...}`"
   ]
  },
  {
   "cell_type": "code",
   "execution_count": 7,
   "metadata": {},
   "outputs": [],
   "source": [
    "def monte_carlo_tree_search(game, state, N=1000):\n",
    "    \"\"\"몬테카를로 트리 탐색.\n",
    "    N: 반복 횟수\"\"\"\n",
    "    \n",
    "    def select(n):\n",
    "        \"\"\"트리에서 단말 노드 하나를 선택함.\n",
    "        UCB 선택 정책에 따라 자식 노드를 순차적으로 선택해 단말 노드까지 내려 감.\"\"\"\n",
    "        if n.children:\n",
    "            return select(max(n.children.keys(), key=ucb))\n",
    "        else:\n",
    "            return n\n",
    "\n",
    "    def expand(n):\n",
    "        \"\"\"선택된 단말 노드의 모든 자식 노드들을 생성하여 확장함.\"\"\"\n",
    "        if not n.children and not game.is_terminal(n.state):\n",
    "            n.children = {MCT_Node(state=game.result(n.state, action), parent=n): action\n",
    "                          for action in game.actions(n.state)}\n",
    "        return select(n)\n",
    "\n",
    "    def simulate(game, state):\n",
    "        \"\"\"생성된 자식 노드에서 playout 정책에 따라 playout 수행.\n",
    "        가능한 수 중 하나를 랜덤하게 선택하여 상태 state의 효용을 시뮬레이션함.\"\"\"\n",
    "        player = state.to_move\n",
    "        while not game.is_terminal(state):\n",
    "            action = random.choice(list(game.actions(state)))\n",
    "            state = game.result(state, action)\n",
    "        v = game.utility(state, player)\n",
    "        return -v\n",
    "\n",
    "    def backprop(n, utility):\n",
    "        \"\"\"시뮬레이션된 효용을 모든 부모 노드들에게 전달함.\n",
    "        노드 n에서 루트까지 올라가면서 시뮬레이션 결과 utility에 따라 playout 횟수(N)와 해당 플레이어의 효용(U) 업데이트\"\"\"\n",
    "        if utility > 0:  # 승리한 플레이어의 노드에만 효용(숭리 횟수) 업데이트\n",
    "            n.U += utility\n",
    "        n.N += 1\n",
    "        if n.parent:\n",
    "            backprop(n.parent, -utility)\n",
    "\n",
    "    root = MCT_Node(state=state)\n",
    "\n",
    "    for _ in range(N):\n",
    "        leaf = select(root)\n",
    "        child = expand(leaf)\n",
    "        result = simulate(game, child.state)\n",
    "        backprop(child, result)\n",
    "\n",
    "    # playout 횟수가 가장 큰 수 리턴\n",
    "    max_state = max(root.children, key=lambda p: p.N)  # N이 가장 큰 자식 노드\n",
    "\n",
    "    return max_state.U, root.children.get(max_state)  # 다른 탐색 알고리즘과 일관성 유지를 위해 효용값과 수를 같이 리턴함.\n",
    "\n",
    "\n",
    "class MCT_Node:\n",
    "    \"\"\"몬테카를로 탐색 트리에서 사용하는 노드.\n",
    "    자식 상태들을 기록함.\n",
    "    U: 이 노드를 경유하는 모든 playout의 총 효용.\n",
    "    N: 이 노드를 경유하는 playout 횟수.\"\"\"\n",
    "    def __init__(self, parent=None, state=None, U=0, N=0):\n",
    "        self.__dict__.update(parent=parent, state=state, U=U, N=N)\n",
    "        self.children = {}  # 자식 노드들이 저장될 딕셔너리. {자식 노드: 해당 자식 노드를 생성시킨 행동}\n",
    "        self.actions = None\n",
    "\n",
    "\n",
    "def ucb(n, C=1.4):\n",
    "    \"\"\"UCB 선택 정책\"\"\"\n",
    "    return np.inf if n.N == 0 else n.U / n.N + C * np.sqrt(np.log(n.parent.N) / n.N)"
   ]
  },
  {
   "cell_type": "markdown",
   "metadata": {},
   "source": [
    "## Tic-Tac-Toe(삼목) 게임"
   ]
  },
  {
   "cell_type": "markdown",
   "metadata": {},
   "source": [
    "### 게임 정의"
   ]
  },
  {
   "cell_type": "code",
   "execution_count": 8,
   "metadata": {},
   "outputs": [],
   "source": [
    "class TicTacToe(Game):\n",
    "    \"\"\"Tic-Tac-Toe 게임. 보드 크기: width * height. k개의 돌을 연이어 놓으면 승리.\n",
    "    'X'와 'O'가 게임 플레이. 'X'가 먼저 플레이.\n",
    "    (0, 0) 위치는 보드의 좌상단 끝 위치.\n",
    "    (x, y)에서 x, y는 각각 x축과 y축 좌표. x축은 오른쪽으로, y축은 아래쪽으로 증가함.\n",
    "    상태: 현재 보드 판 상태(놓여 있는 돌의 위치와 종류).\n",
    "    행동(수): 돌을 놓을 위치.\"\"\"\n",
    "\n",
    "    def __init__(self, height=3, width=3, k=3):\n",
    "        self.k = k\n",
    "        self.squares = {(x, y) for x in range(width) for y in range(height)}  # 보드에서 모든 가능한 위치 집합\n",
    "        self.initial = Board(height=height, width=width, to_move='X', utility=0)\n",
    "\n",
    "    def actions(self, board):\n",
    "        \"\"\"board 상태에서 가능한 수: 아직 돌이 놓이지 않은 위치들.\"\"\"\n",
    "        return self.squares - set(board)\n",
    "\n",
    "    def result(self, board, square):\n",
    "        \"\"\"board 상태에서 square 위치에 수를 뒀을 때의 결과 상태.\n",
    "        board의 square 위치에 현재 플레이어의 표시를 위치시킴.\"\"\"\n",
    "        player = board.to_move\n",
    "        board = board.new({square: player}, to_move=('O' if player == 'X' else 'X'))\n",
    "        win = k_in_row(board, player, square, self.k)\n",
    "        board.utility = (0 if not win else +1 if player == 'X' else -1)\n",
    "        return board\n",
    "\n",
    "    def utility(self, board, player):\n",
    "        \"\"\"승리: 1, 패배: -1, 그외: 0\"\"\"\n",
    "        return board.utility if player == 'X' else -board.utility\n",
    "\n",
    "    def is_terminal(self, board):\n",
    "        \"\"\"승/패가 결정되었거나 빈 위치가 존재하지 않으면 종료 상태임.\"\"\"\n",
    "        return board.utility != 0 or len(self.squares) == len(board)\n",
    "\n",
    "    def display(self, board): print(board)     \n",
    "\n",
    "\n",
    "def k_in_row(board, player, square, k):\n",
    "    \"\"\"일직선으로 k개의 player 돌이 놓여 있으면 True 리턴.\"\"\"\n",
    "    def in_row(x, y, dx, dy): return 0 if board[x, y] != player else 1 + in_row(x + dx, y + dy, dx, dy)\n",
    "    return any(in_row(*square, dx, dy) + in_row(*square, -dx, -dy) - 1 >= k\n",
    "               for (dx, dy) in ((0, 1), (1, 0), (1, 1), (1, -1)))"
   ]
  },
  {
   "cell_type": "code",
   "execution_count": 9,
   "metadata": {},
   "outputs": [],
   "source": [
    "class Board(defaultdict):\n",
    "    \"\"\"{(x, y): player} 형식의 딕셔너리.\n",
    "    각 위치에 누구의 돌이 놓여 있는지를 표현함. player: 'X' 또는 'O'\n",
    "    .to_move: 누가 둘 차례인가?\n",
    "    .width, .height: 보드 크기\"\"\"\n",
    "    \n",
    "    empty = '.'\n",
    "    off = '#'\n",
    "    \n",
    "    def __init__(self, width=8, height=8, to_move=None, **kwds):\n",
    "        self.__dict__.update(width=width, height=height, to_move=to_move, **kwds)\n",
    "        \n",
    "    def new(self, changes: dict, **kwds) -> 'Board':\n",
    "        \"\"\"{(x, y): contents} 형식의 딕셔너리 changes가 주어지면, 변경 사항이 적용된 새로운 보드 리턴.\"\"\"\n",
    "        board = Board(width=self.width, height=self.height, **kwds)\n",
    "        board.update(self)\n",
    "        board.update(changes)\n",
    "        return board\n",
    "\n",
    "    def __missing__(self, loc):  # loc가 보드 딕셔너리에 존재하지 않은 경우 실행됨.\n",
    "        x, y = loc\n",
    "        if 0 <= x < self.width and 0 <= y < self.height:\n",
    "            return self.empty\n",
    "        else:\n",
    "            return self.off\n",
    "            \n",
    "    def __hash__(self): \n",
    "        return hash(tuple(sorted(self.items()))) + hash(self.to_move)\n",
    "    \n",
    "    def __repr__(self):\n",
    "        def row(y): return ' '.join(self[x, y] for x in range(self.width))\n",
    "        return '\\n'.join(map(row, range(self.height))) +  '\\n'"
   ]
  },
  {
   "cell_type": "markdown",
   "metadata": {},
   "source": [
    "### 게임 참가자(player) 정의"
   ]
  },
  {
   "cell_type": "code",
   "execution_count": 10,
   "metadata": {},
   "outputs": [],
   "source": [
    "def random_player(game, state):\n",
    "    \"\"\"허용되는 수(move) 중에서 무작위로 하나를 선택하는 플레이어\"\"\"\n",
    "    return random.choice(list(game.actions(state)))\n",
    "\n",
    "def player(search_algorithm):\n",
    "    \"\"\"지정된 탐색 알고리즘을 사용하는 플레이어: (game, state)를 입력 받아 move를 리턴하는 함수.\"\"\"\n",
    "    return lambda game, state: search_algorithm(game, state)[1]  # search_algorithm의 리턴값은 (value, move) 튜플"
   ]
  },
  {
   "cell_type": "code",
   "execution_count": 11,
   "metadata": {},
   "outputs": [],
   "source": [
    "def query_player(game, state):\n",
    "    \"\"\"다음 수(move)를 직접 입력하는 형태의 플레이어\"\"\"\n",
    "    print(\"현재 상태:\")\n",
    "    game.display(state)\n",
    "    print(f\"가능한 수: {game.actions(state)}\")\n",
    "    print(\"\")\n",
    "    move = None\n",
    "    if game.actions(state):\n",
    "        move_string = input('당신의 수는? (돌을 둘 위치 입력; 예: (1,1)): ')\n",
    "        try:\n",
    "            move = eval(move_string)\n",
    "        except NameError:\n",
    "            move = move_string\n",
    "    else:\n",
    "        print('가능한 수가 없음: 상대방에게 순서가 넘어감.')\n",
    "    return move"
   ]
  },
  {
   "cell_type": "markdown",
   "metadata": {},
   "source": [
    "## 게임하기"
   ]
  },
  {
   "cell_type": "code",
   "execution_count": 12,
   "metadata": {},
   "outputs": [
    {
     "name": "stdout",
     "output_type": "stream",
     "text": [
      "Player X move: (2, 0)\n",
      ". . X\n",
      ". . .\n",
      ". . .\n",
      "\n",
      "Player O move: (1, 1)\n",
      ". . X\n",
      ". O .\n",
      ". . .\n",
      "\n",
      "Player X move: (0, 0)\n",
      "X . X\n",
      ". O .\n",
      ". . .\n",
      "\n",
      "Player O move: (1, 0)\n",
      "X O X\n",
      ". O .\n",
      ". . .\n",
      "\n",
      "Player X move: (0, 1)\n",
      "X O X\n",
      "X O .\n",
      ". . .\n",
      "\n",
      "Player O move: (1, 2)\n",
      "X O X\n",
      "X O .\n",
      ". O .\n",
      "\n"
     ]
    },
    {
     "data": {
      "text/plain": [
       "-1"
      ]
     },
     "execution_count": 12,
     "metadata": {},
     "output_type": "execute_result"
    }
   ],
   "source": [
    "play_game(TicTacToe(), {'X':random_player, 'O':player(alphabeta_search)}, verbose=True).utility"
   ]
  },
  {
   "cell_type": "code",
   "execution_count": 13,
   "metadata": {
    "scrolled": true
   },
   "outputs": [
    {
     "name": "stdout",
     "output_type": "stream",
     "text": [
      "Player X move: (0, 1)\n",
      ". . .\n",
      "X . .\n",
      ". . .\n",
      "\n",
      "Player O move: (2, 1)\n",
      ". . .\n",
      "X . O\n",
      ". . .\n",
      "\n",
      "Player X move: (1, 2)\n",
      ". . .\n",
      "X . O\n",
      ". X .\n",
      "\n",
      "Player O move: (0, 0)\n",
      "O . .\n",
      "X . O\n",
      ". X .\n",
      "\n",
      "Player X move: (1, 1)\n",
      "O . .\n",
      "X X O\n",
      ". X .\n",
      "\n",
      "Player O move: (1, 0)\n",
      "O O .\n",
      "X X O\n",
      ". X .\n",
      "\n",
      "Player X move: (2, 0)\n",
      "O O X\n",
      "X X O\n",
      ". X .\n",
      "\n",
      "Player O move: (0, 2)\n",
      "O O X\n",
      "X X O\n",
      "O X .\n",
      "\n",
      "Player X move: (2, 2)\n",
      "O O X\n",
      "X X O\n",
      "O X X\n",
      "\n"
     ]
    },
    {
     "data": {
      "text/plain": [
       "0"
      ]
     },
     "execution_count": 13,
     "metadata": {},
     "output_type": "execute_result"
    }
   ],
   "source": [
    "play_game(TicTacToe(), {'X':player(alphabeta_search), 'O':player(minimax_search)}, verbose=True).utility"
   ]
  },
  {
   "cell_type": "code",
   "execution_count": 14,
   "metadata": {},
   "outputs": [
    {
     "name": "stdout",
     "output_type": "stream",
     "text": [
      "Player X move: (0, 1)\n",
      ". . .\n",
      "X . .\n",
      ". . .\n",
      "\n",
      "Player O move: (2, 1)\n",
      ". . .\n",
      "X . O\n",
      ". . .\n",
      "\n",
      "Player X move: (1, 2)\n",
      ". . .\n",
      "X . O\n",
      ". X .\n",
      "\n",
      "Player O move: (0, 0)\n",
      "O . .\n",
      "X . O\n",
      ". X .\n",
      "\n",
      "Player X move: (1, 1)\n",
      "O . .\n",
      "X X O\n",
      ". X .\n",
      "\n",
      "Player O move: (1, 0)\n",
      "O O .\n",
      "X X O\n",
      ". X .\n",
      "\n",
      "Player X move: (2, 0)\n",
      "O O X\n",
      "X X O\n",
      ". X .\n",
      "\n",
      "Player O move: (0, 2)\n",
      "O O X\n",
      "X X O\n",
      "O X .\n",
      "\n",
      "Player X move: (2, 2)\n",
      "O O X\n",
      "X X O\n",
      "O X X\n",
      "\n"
     ]
    },
    {
     "data": {
      "text/plain": [
       "0"
      ]
     },
     "execution_count": 14,
     "metadata": {},
     "output_type": "execute_result"
    }
   ],
   "source": [
    "play_game(TicTacToe(), {'X':player(h_alphabeta_search), 'O':player(h_alphabeta_search)}, verbose=True).utility"
   ]
  },
  {
   "cell_type": "code",
   "execution_count": 15,
   "metadata": {},
   "outputs": [
    {
     "name": "stdout",
     "output_type": "stream",
     "text": [
      "Player X move: (1, 1)\n",
      ". . .\n",
      ". X .\n",
      ". . .\n",
      "\n",
      "Player O move: (0, 1)\n",
      ". . .\n",
      "O X .\n",
      ". . .\n",
      "\n",
      "Player X move: (1, 2)\n",
      ". . .\n",
      "O X .\n",
      ". X .\n",
      "\n",
      "Player O move: (2, 1)\n",
      ". . .\n",
      "O X O\n",
      ". X .\n",
      "\n",
      "Player X move: (1, 0)\n",
      ". X .\n",
      "O X O\n",
      ". X .\n",
      "\n"
     ]
    },
    {
     "data": {
      "text/plain": [
       "1"
      ]
     },
     "execution_count": 15,
     "metadata": {},
     "output_type": "execute_result"
    }
   ],
   "source": [
    "play_game(TicTacToe(), {'X':player(monte_carlo_tree_search), 'O':random_player}, verbose=True).utility"
   ]
  },
  {
   "cell_type": "code",
   "execution_count": 16,
   "metadata": {},
   "outputs": [
    {
     "name": "stdout",
     "output_type": "stream",
     "text": [
      "Player X move: (1, 1)\n",
      ". . .\n",
      ". X .\n",
      ". . .\n",
      "\n",
      "Player O move: (0, 0)\n",
      "O . .\n",
      ". X .\n",
      ". . .\n",
      "\n",
      "Player X move: (0, 1)\n",
      "O . .\n",
      "X X .\n",
      ". . .\n",
      "\n",
      "Player O move: (2, 1)\n",
      "O . .\n",
      "X X O\n",
      ". . .\n",
      "\n",
      "Player X move: (1, 0)\n",
      "O X .\n",
      "X X O\n",
      ". . .\n",
      "\n",
      "Player O move: (1, 2)\n",
      "O X .\n",
      "X X O\n",
      ". O .\n",
      "\n",
      "Player X move: (2, 0)\n",
      "O X X\n",
      "X X O\n",
      ". O .\n",
      "\n",
      "Player O move: (0, 2)\n",
      "O X X\n",
      "X X O\n",
      "O O .\n",
      "\n",
      "Player X move: (2, 2)\n",
      "O X X\n",
      "X X O\n",
      "O O X\n",
      "\n"
     ]
    },
    {
     "data": {
      "text/plain": [
       "0"
      ]
     },
     "execution_count": 16,
     "metadata": {},
     "output_type": "execute_result"
    }
   ],
   "source": [
    "play_game(TicTacToe(), {'X':player(monte_carlo_tree_search), 'O':player(h_alphabeta_search)}, verbose=True).utility"
   ]
  },
  {
   "cell_type": "code",
   "execution_count": 17,
   "metadata": {},
   "outputs": [
    {
     "name": "stdout",
     "output_type": "stream",
     "text": [
      "CPU times: total: 2.7 s\n",
      "Wall time: 7.85 s\n"
     ]
    },
    {
     "data": {
      "text/plain": [
       "O O X\n",
       "X X O\n",
       "O X X"
      ]
     },
     "execution_count": 17,
     "metadata": {},
     "output_type": "execute_result"
    }
   ],
   "source": [
    "%%time\n",
    "play_game(TicTacToe(), {'X':player(minimax_search), 'O':player(h_alphabeta_search)})"
   ]
  },
  {
   "cell_type": "code",
   "execution_count": 18,
   "metadata": {},
   "outputs": [
    {
     "name": "stdout",
     "output_type": "stream",
     "text": [
      "CPU times: total: 203 ms\n",
      "Wall time: 418 ms\n"
     ]
    },
    {
     "data": {
      "text/plain": [
       "O O X\n",
       "X X O\n",
       "O X X"
      ]
     },
     "execution_count": 18,
     "metadata": {},
     "output_type": "execute_result"
    }
   ],
   "source": [
    "%%time\n",
    "play_game(TicTacToe(), {'X':player(alphabeta_search), 'O':player(h_alphabeta_search)})"
   ]
  },
  {
   "cell_type": "code",
   "execution_count": 19,
   "metadata": {
    "scrolled": true
   },
   "outputs": [
    {
     "name": "stdout",
     "output_type": "stream",
     "text": [
      "CPU times: total: 62.5 ms\n",
      "Wall time: 244 ms\n"
     ]
    },
    {
     "data": {
      "text/plain": [
       "O O X\n",
       "X X O\n",
       "O X X"
      ]
     },
     "execution_count": 19,
     "metadata": {},
     "output_type": "execute_result"
    }
   ],
   "source": [
    "%%time\n",
    "play_game(TicTacToe(), {'X':player(h_alphabeta_search), 'O':player(h_alphabeta_search)})"
   ]
  },
  {
   "cell_type": "code",
   "execution_count": 20,
   "metadata": {},
   "outputs": [
    {
     "name": "stdout",
     "output_type": "stream",
     "text": [
      "CPU times: total: 219 ms\n",
      "Wall time: 573 ms\n"
     ]
    },
    {
     "data": {
      "text/plain": [
       "O X O\n",
       "X X O\n",
       "X O X"
      ]
     },
     "execution_count": 20,
     "metadata": {},
     "output_type": "execute_result"
    }
   ],
   "source": [
    "%%time\n",
    "play_game(TicTacToe(), {'X':player(monte_carlo_tree_search), 'O':player(h_alphabeta_search)})"
   ]
  },
  {
   "cell_type": "code",
   "execution_count": 21,
   "metadata": {
    "scrolled": false
   },
   "outputs": [
    {
     "name": "stdout",
     "output_type": "stream",
     "text": [
      "현재 상태:\n",
      ". . .\n",
      ". . .\n",
      ". . .\n",
      "\n",
      "가능한 수: {(0, 1), (1, 2), (2, 1), (0, 0), (1, 1), (2, 0), (0, 2), (2, 2), (1, 0)}\n",
      "\n",
      "현재 상태:\n",
      ". . .\n",
      ". X O\n",
      ". . .\n",
      "\n",
      "가능한 수: {(0, 1), (1, 2), (0, 0), (2, 0), (0, 2), (2, 2), (1, 0)}\n",
      "\n",
      "현재 상태:\n",
      ". . .\n",
      ". X O\n",
      "X O .\n",
      "\n",
      "가능한 수: {(0, 1), (0, 0), (2, 0), (2, 2), (1, 0)}\n",
      "\n"
     ]
    },
    {
     "data": {
      "text/plain": [
       ". . X\n",
       ". X O\n",
       "X O ."
      ]
     },
     "execution_count": 21,
     "metadata": {},
     "output_type": "execute_result"
    }
   ],
   "source": [
    "play_game(TicTacToe(), {'X':query_player, 'O':random_player})"
   ]
  },
  {
   "cell_type": "code",
   "execution_count": null,
   "metadata": {},
   "outputs": [],
   "source": []
  }
 ],
 "metadata": {
  "kernelspec": {
   "display_name": "Python 3 (ipykernel)",
   "language": "python",
   "name": "python3"
  },
  "language_info": {
   "codemirror_mode": {
    "name": "ipython",
    "version": 3
   },
   "file_extension": ".py",
   "mimetype": "text/x-python",
   "name": "python",
   "nbconvert_exporter": "python",
   "pygments_lexer": "ipython3",
   "version": "3.11.5"
  }
 },
 "nbformat": 4,
 "nbformat_minor": 4
}
